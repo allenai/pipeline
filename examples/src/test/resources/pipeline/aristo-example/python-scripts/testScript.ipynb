{
 "cells": [
  {
   "cell_type": "code",
   "execution_count": 16,
   "metadata": {
    "collapsed": false
   },
   "outputs": [
    {
     "data": {
      "text/plain": [
       "datetime.datetime(2015, 8, 14, 9, 39, 53, 24021)"
      ]
     },
     "execution_count": 16,
     "metadata": {},
     "output_type": "execute_result"
    }
   ],
   "source": [
    "import datetime\n",
    "datetime.datetime.now()"
   ]
  },
  {
   "cell_type": "code",
   "execution_count": 17,
   "metadata": {
    "collapsed": false
   },
   "outputs": [],
   "source": [
    "import os\n",
    "inputDir = os.getenv('iPython_inputDir')\n",
    "inputDir"
   ]
  },
  {
   "cell_type": "code",
   "execution_count": 20,
   "metadata": {
    "collapsed": false
   },
   "outputs": [
    {
     "data": {
      "text/plain": [
       "['Arizona-Inference-fvTest.csv',\n",
       " 'Arizona-Inference-fvTrain.csv',\n",
       " 'Arizona-Inference-report.txt',\n",
       " 'Arizona-Inference-Salience-fvTest.csv',\n",
       " 'Arizona-Inference-Salience-fvTrain.csv',\n",
       " 'Arizona-Inference-Salience-report.txt',\n",
       " 'Arizona-Salience-fvTest.csv',\n",
       " 'Arizona-Salience-fvTrain.csv',\n",
       " 'Arizona-Salience-report.txt',\n",
       " 'Inference-Salience-fvTest.csv',\n",
       " 'Inference-Salience-fvTrain.csv',\n",
       " 'Inference-Salience-report.txt']"
      ]
     },
     "execution_count": 20,
     "metadata": {},
     "output_type": "execute_result"
    }
   ],
   "source": [
    "files=os.listdir(inputDir)\n",
    "files"
   ]
  },
  {
   "cell_type": "code",
   "execution_count": 26,
   "metadata": {
    "collapsed": false
   },
   "outputs": [
    {
     "data": {
      "text/plain": [
       "12"
      ]
     },
     "execution_count": 26,
     "metadata": {},
     "output_type": "execute_result"
    }
   ],
   "source": [
    "len(files)"
   ]
  },
  {
   "cell_type": "code",
   "execution_count": null,
   "metadata": {
    "collapsed": true
   },
   "outputs": [],
   "source": []
  }
 ],
 "metadata": {
  "kernelspec": {
   "display_name": "Python 2",
   "language": "python",
   "name": "python2"
  },
  "language_info": {
   "codemirror_mode": {
    "name": "ipython",
    "version": 2
   },
   "file_extension": ".py",
   "mimetype": "text/x-python",
   "name": "python",
   "nbconvert_exporter": "python",
   "pygments_lexer": "ipython2",
   "version": "2.7.10"
  }
 },
 "nbformat": 4,
 "nbformat_minor": 0
}
